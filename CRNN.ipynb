{
  "cells": [
    {
      "cell_type": "code",
      "source": [
        "!pip install torchmetrics"
      ],
      "metadata": {
        "id": "loyEE5HHlhNv"
      },
      "execution_count": null,
      "outputs": []
    },
    {
      "cell_type": "code",
      "execution_count": 2,
      "metadata": {
        "id": "QRsFjE9-dK4i"
      },
      "outputs": [],
      "source": [
        "import os\n",
        "import random\n",
        "from typing import Tuple, List, Union, Iterable\n",
        "\n",
        "import cv2\n",
        "import torch\n",
        "import numpy as np\n",
        "from google.colab.patches import cv2_imshow\n",
        "from torch.utils.data import Dataset, DataLoader\n",
        "from torch import nn\n",
        "from torchmetrics.functional import char_error_rate\n",
        "\n",
        "\n",
        "def rand(seed=42):\n",
        "    torch.backends.cudnn.deterministic = True\n",
        "    torch.backends.cudnn.benchmark = False\n",
        "    torch.cuda.manual_seed_all(seed)\n",
        "    torch.manual_seed(seed)\n",
        "    random.seed(seed)\n",
        "    np.random.seed(seed)\n",
        "\n",
        "\n",
        "rand()"
      ]
    },
    {
      "cell_type": "code",
      "execution_count": 3,
      "metadata": {
        "colab": {
          "base_uri": "https://localhost:8080/"
        },
        "id": "3KS5CQ4Vt-_0",
        "outputId": "69501651-902a-4e52-c592-38c286b07a8a"
      },
      "outputs": [
        {
          "output_type": "stream",
          "name": "stdout",
          "text": [
            "Using cuda device\n"
          ]
        }
      ],
      "source": [
        "device = 'cuda' if torch.cuda.is_available() else 'cpu'\n",
        "print('Using {} device'.format(device))"
      ]
    },
    {
      "cell_type": "code",
      "execution_count": null,
      "metadata": {
        "id": "-q3WUH4VCdU9"
      },
      "outputs": [],
      "source": [
        "!unzip /content/drive/MyDrive/'Colab Notebooks'/'Тинькофф Образование'/CCPD2019-dl1.zip"
      ]
    },
    {
      "cell_type": "markdown",
      "metadata": {
        "id": "UaDAHAbicqlT"
      },
      "source": [
        "# Подготовка данных"
      ]
    },
    {
      "cell_type": "markdown",
      "source": [
        "## Объявление класса-датасета CCPD19"
      ],
      "metadata": {
        "id": "jPpGeM-QJwn4"
      }
    },
    {
      "cell_type": "code",
      "execution_count": 5,
      "metadata": {
        "id": "XMm6uIxocgvv"
      },
      "outputs": [],
      "source": [
        "class CCPD19(Dataset):\n",
        "    def __init__(self, img_dir: str, transform: bool = True, \n",
        "                 img_size: Tuple[int, int] = (100, 32)) -> None:\n",
        "        \"\"\"\n",
        "        Инициализация датасета\n",
        "        :param img_dir: Путь до директории с изображениями\n",
        "        :param transform: Флаг для преобразования данных. Если значение True, тогда будет изменен цвет и размер фотографий\n",
        "        :param img_size: Размер преобразованного изображения\n",
        "        \"\"\" \n",
        "        all_files = next(os.walk(img_dir))[2]\n",
        "        self.img_labels = list(map(lambda x: x.split('.')[0].split('-'), all_files))\n",
        "        self.img_labels = np.append(np.reshape(all_files, (len(all_files), 1)), self.img_labels, axis=1)\n",
        "        self.img_dir = img_dir\n",
        "        self.img_size = img_size\n",
        "        self.transform = transform\n",
        "    \n",
        "    def __getitem__(self, idx: int) -> Tuple[torch.Tensor, List]:\n",
        "        \"\"\"\n",
        "        Метод для получения наблюдения по idx\n",
        "        :param idx: Индекс искомого наблюдения\n",
        "        :return: Кортеж с изображением и его меткой\n",
        "        \"\"\"\n",
        "        # TODO: Add converter to labels\n",
        "        img_path = os.path.join(self.img_dir, self.img_labels[idx, 0])\n",
        "        image = cv2.imread(img_path)\n",
        "        label = self.img_labels[idx, 2]\n",
        "        if self.transform:\n",
        "            image = cv2.resize(image, self.img_size)\n",
        "            image = cv2.cvtColor(image, cv2.COLOR_BGR2GRAY)\n",
        "            image = torch.Tensor(image).to(device)\n",
        "        return image, label\n",
        "    \n",
        "    def __len__(self) -> int:\n",
        "        \"\"\"\n",
        "        Возвращает количество наблюдений в датасете\n",
        "        :return: Количество наблюдений\n",
        "        \"\"\"\n",
        "        return len(self.img_labels)"
      ]
    },
    {
      "cell_type": "markdown",
      "source": [
        "## Объявление класса-конвертера"
      ],
      "metadata": {
        "id": "99PP2wfFKMgi"
      }
    },
    {
      "cell_type": "code",
      "execution_count": 6,
      "metadata": {
        "id": "UQG8buBd4x0L"
      },
      "outputs": [],
      "source": [
        "class Converter:\n",
        "    def __init__(self, symbols: List) -> None:\n",
        "        \"\"\"\n",
        "        Кодировщик символов к цифрам. Также преобразует данные к Тензорам pytorch.\n",
        "        :param symbols: Набор символов\n",
        "        \"\"\"\n",
        "        self.encode_mapping = {}\n",
        "        for i, sym in enumerate(symbols):\n",
        "            self.encode_mapping[sym] = i + 1\n",
        "        \n",
        "        self.decode_mapping = {0: '-'}\n",
        "        for key, value in self.encode_mapping.items():\n",
        "            self.decode_mapping[value] = key\n",
        "    \n",
        "    def encode(self, text: Union[str, Iterable]) -> Tuple[torch.Tensor, torch.Tensor]:\n",
        "        \"\"\"\n",
        "        Кодирование текста и приведение к виду удобного для вычисления CTCLoss.\n",
        "        :param text: Текст для кодирования\n",
        "        :return: (Текст, Размеры текстов)\n",
        "        \"\"\"\n",
        "        if isinstance(text, str):\n",
        "            text = [\n",
        "                self.encode_mapping[sym] \n",
        "                for sym in text\n",
        "            ]\n",
        "            length = [len(text)]\n",
        "            return torch.IntTensor(text).to(device), torch.IntTensor(length).to(device)\n",
        "        elif isinstance(text, Iterable):\n",
        "            length = [len(t) for t in text]\n",
        "            text = [self.encode(t)[0] for t in text]\n",
        "            return torch.stack(text).to(device), torch.IntTensor(length).to(device)\n",
        "    \n",
        "    def decode(self, seq: Iterable) -> List[str]:\n",
        "        \"\"\"\n",
        "        Декодирование последовательности чисел в слово\n",
        "        :param seq: Последовательность чисел\n",
        "        :return: Декодируемое слово\n",
        "        \"\"\"\n",
        "        if isinstance(seq, torch.Tensor):\n",
        "            seq = seq.cpu().numpy()\n",
        "        if len(seq.shape) == 1:\n",
        "            text = [self.decode_mapping[s] for s in seq]\n",
        "        elif len(seq.shape) == 2:\n",
        "            text = [self.decode(seq[i]) for i in range(len(seq))]\n",
        "        return text\n",
        "    \n",
        "    def clean(self, text: Union[torch.Tensor, List], \n",
        "              blank: int = 0) -> Union[torch.Tensor, List]:\n",
        "        \"\"\"\n",
        "        Метод для очистки полученой последовательности символов (кодов) из\n",
        "        нейронной сети. Удаляет пустые символы и берет последний не пустой код,\n",
        "        если коды идут подряд без пробелов.\n",
        "        :param text: Батч с последовательностями кодов\n",
        "        :param blank: Число, отвечающее за код пропуска, пробела\n",
        "        :return: Очищенная последовательность из 7 кодов\n",
        "        \"\"\"\n",
        "        if isinstance(text, torch.Tensor):\n",
        "            res = torch.zeros((text.shape[0], 7), dtype=torch.int8).to(device)\n",
        "            for i in range(len(text)):\n",
        "                k = 0\n",
        "                for j in range(len(text[i]) - 1):\n",
        "                    if text[i, j].item() != blank and text[i, j+1].item() == blank:\n",
        "                        if k >= 7: \n",
        "                            break\n",
        "                        res[i, k] = text[i, j]\n",
        "                        k += 1\n",
        "                if text[i, -1].item() != blank:\n",
        "                    res[i, -1] = text[i, -1]\n",
        "        else:\n",
        "            res = []\n",
        "            for i in range(len(text)):\n",
        "                for j in range(len(text[i]) - 1):\n",
        "                    if text[i][j] != blank and text[i][j+1] == blank:\n",
        "                        res.append(text[i][j])\n",
        "                if text[i][-1] != blank:\n",
        "                    res.append(text[i][-1])\n",
        "        return res"
      ]
    },
    {
      "cell_type": "markdown",
      "source": [
        "## Подгрузка данных"
      ],
      "metadata": {
        "id": "iHHzo-6yKWNo"
      }
    },
    {
      "cell_type": "code",
      "execution_count": 7,
      "metadata": {
        "id": "K2PXqh4w50OV"
      },
      "outputs": [],
      "source": [
        "TRAIN_PATH = 'CCPD2019-dl1/train'\n",
        "TEST_PATH = 'CCPD2019-dl1/test'\n",
        "\n",
        "train = CCPD19(TRAIN_PATH)\n",
        "test = CCPD19(TEST_PATH)"
      ]
    },
    {
      "cell_type": "markdown",
      "source": [
        "Получим символы, которые используются в тренировочной выборке на автомобильных номерах"
      ],
      "metadata": {
        "id": "3XLYRi54J5O6"
      }
    },
    {
      "cell_type": "code",
      "execution_count": 8,
      "metadata": {
        "colab": {
          "base_uri": "https://localhost:8080/",
          "height": 37
        },
        "id": "bwZcgawfR8Jt",
        "outputId": "8d3fbbe1-1459-4712-9b7f-0e9a136e2360"
      },
      "outputs": [
        {
          "output_type": "execute_result",
          "data": {
            "text/plain": [
              "'0123456789ABCDEFGHJKLMNOPQRSTUVWXYZ云京冀吉宁川新晋桂沪津浙渝湘琼甘皖粤苏蒙藏豫贵赣辽鄂闽陕青鲁黑'"
            ],
            "application/vnd.google.colaboratory.intrinsic+json": {
              "type": "string"
            }
          },
          "metadata": {},
          "execution_count": 8
        }
      ],
      "source": [
        "all_files = next(os.walk(TRAIN_PATH))[2]\n",
        "labels = list(map(lambda x: x.split('.')[0].split('-')[1], all_files))\n",
        "symbols = sorted(list(set(''.join(labels))))\n",
        "''.join(symbols)"
      ]
    },
    {
      "cell_type": "markdown",
      "metadata": {
        "id": "KEpJOm88ER3S"
      },
      "source": [
        "# Создание и обучение модели"
      ]
    },
    {
      "cell_type": "markdown",
      "source": [
        "## Объявление архитектуры Нейронной сети"
      ],
      "metadata": {
        "id": "xqkwxI9QKrpg"
      }
    },
    {
      "cell_type": "code",
      "execution_count": 9,
      "metadata": {
        "id": "26VgmfDnlsPO"
      },
      "outputs": [],
      "source": [
        "class Conv(nn.Module):\n",
        "    def __init__(self, in_channels: int, out_channels: int, \n",
        "                 kernel_size: Tuple[int, int], stride: int, padding: int, \n",
        "                 batch_norm: bool = False) -> None:\n",
        "        \"\"\"\n",
        "        Инициализация повторяющегося слоя свертки\n",
        "        :param in_channels: Количество входных каналов\n",
        "        :param out_channels: Количество выходных каналов\n",
        "        :param kernel_size: Размер ядра\n",
        "        :param stride: Размер шага\n",
        "        :param padding: Размер отступа от рамки\n",
        "        :param batch_norm: Флаг использования BatchNorm\n",
        "        \"\"\"\n",
        "        super(Conv, self).__init__()\n",
        "\n",
        "        self.normalize = batch_norm\n",
        "        self.conv = nn.Conv2d(in_channels, out_channels, kernel_size, stride, padding)\n",
        "        self.bn = nn.BatchNorm2d(out_channels)\n",
        "        self.relu = nn.ReLU()\n",
        "\n",
        "    def forward(self, images: torch.Tensor) -> List:\n",
        "        \"\"\"\n",
        "        Прямой проход по слою свертки\n",
        "        :param images: Батч с изображениями - наблюдениями\n",
        "        :return: Результат прохода по сети\n",
        "        \"\"\"\n",
        "        output = self.conv(images)\n",
        "        if self.normalize:\n",
        "            output = self.bn(output)\n",
        "        output = self.relu(output)\n",
        "        return output"
      ]
    },
    {
      "cell_type": "code",
      "execution_count": 10,
      "metadata": {
        "id": "aR0S42egEb0A"
      },
      "outputs": [],
      "source": [
        "class CRNN(nn.Module):\n",
        "    def __init__(self, num_classes: int) -> None:\n",
        "        \"\"\"\n",
        "        Инициализация слоев нейронной сети\n",
        "        :param num_classes: Количество символов-классов для предсказывания\n",
        "        \"\"\"\n",
        "        super(CRNN, self).__init__()\n",
        "        \n",
        "        # Convolutional Layers\n",
        "        self.conv0 = Conv(in_channels=1, out_channels=64, kernel_size=(3, 3), stride=1, padding=1)\n",
        "        self.pool0 = nn.MaxPool2d(kernel_size=(2, 2), stride=2)\n",
        "        \n",
        "        self.conv1 = Conv(in_channels=64, out_channels=128, kernel_size=(3, 3), stride=1, padding=1)\n",
        "        self.pool1 = nn.MaxPool2d(kernel_size=(2, 2), stride=2)\n",
        "        \n",
        "        self.conv2 = Conv(in_channels=128, out_channels=256, kernel_size=(3, 3), stride=1, padding=1)\n",
        "        self.conv3 = Conv(in_channels=256, out_channels=256, kernel_size=(3, 3), stride=1, padding=1)\n",
        "        self.pool2 = nn.MaxPool2d(kernel_size=(2, 1), stride=(2, 1))\n",
        "        \n",
        "        self.conv4 = Conv(in_channels=256, out_channels=512, kernel_size=(3, 3), stride=1, padding=1, batch_norm=True)\n",
        "        \n",
        "        self.conv5 = Conv(in_channels=512, out_channels=512, kernel_size=(3, 3), stride=1, padding=1, batch_norm=True)\n",
        "        self.pool3 = nn.MaxPool2d(kernel_size=(2, 1), stride=(2, 1))\n",
        "        \n",
        "        self.conv6 = Conv(in_channels=512, out_channels=512, kernel_size=(2, 2), stride=1, padding=0)\n",
        "\n",
        "        # Recurrent Layers\n",
        "        self.lstm0 = nn.LSTM(input_size=512, hidden_size=256, num_layers=2, bidirectional=True, batch_first=True)\n",
        "\n",
        "        # Transcription Layers\n",
        "        self.linear0 = nn.Linear(in_features=512, out_features=num_classes)\n",
        "    \n",
        "    def forward(self, images: torch.Tensor) -> List:\n",
        "        \"\"\"\n",
        "        Прямой проход по нейронной сети\n",
        "        :param images: Батч с изображениями - наблюдениями. Shape: [b, h, w]\n",
        "        :return: Результат прохода по сети\n",
        "        \"\"\"\n",
        "        images = torch.unsqueeze(images, 1)         # [b, 1, 32, 100]\n",
        "\n",
        "        # Convolutional Layers\n",
        "        output = self.conv0(images)                 # [b, 64, 32, 100]\n",
        "        output = self.pool0(output)                 # [b, 64, 16, 50]\n",
        "\n",
        "        output = self.conv1(output)                 # [b, 128, 16, 50]\n",
        "        output = self.pool1(output)                 # [b, 128, 8, 25]\n",
        "\n",
        "        output = self.conv2(output)                 # [b, 256, 8, 25]\n",
        "\n",
        "        output = self.conv3(output)                 # [b, 256, 8, 25]\n",
        "        output = self.pool2(output)                 # [b, 256, 4, 25]\n",
        "\n",
        "        output = self.conv4(output)                 # [b, 512, 4, 25]\n",
        "\n",
        "        output = self.conv5(output)                 # [b, 512, 4, 25]\n",
        "        output = self.pool3(output)                 # [b, 512, 2, 25]\n",
        "\n",
        "        output = self.conv6(output)                 # [b, 512, 1, 24]\n",
        "\n",
        "        # TODO: Add packed/padded sequence\n",
        "        # Map to sequence\n",
        "        output = torch.squeeze(output, 2)           # [b, 512, 24]\n",
        "        output = torch.permute(output, (0, 2, 1))   # [b, 24, 512]\n",
        "\n",
        "        # Recurrent Layers\n",
        "        output, _ = self.lstm0(output)\n",
        "\n",
        "        # Transription Layers\n",
        "        b, w, c = output.size()\n",
        "        output = output.reshape(b * w, c)           # [b * 24, 512]\n",
        "        output = self.linear0(output)\n",
        "        output = output.reshape(b, w, -1)           # [b, 24, num_classes]\n",
        "\n",
        "        return output"
      ]
    },
    {
      "cell_type": "markdown",
      "source": [
        "## Обучение"
      ],
      "metadata": {
        "id": "U8RpbM9KKx1G"
      }
    },
    {
      "cell_type": "code",
      "execution_count": 11,
      "metadata": {
        "id": "06ZYsF3Pym1t"
      },
      "outputs": [],
      "source": [
        "def train_loop(dataloader, model, loss_fn, optimizer, converter):\n",
        "    size = len(dataloader.dataset)\n",
        "    for batch, (images, labels) in enumerate(dataloader):\n",
        "        batch_size = images.size(0)\n",
        "        labels, labels_length = converter.encode(labels)\n",
        "\n",
        "        preds = model(images).log_softmax(2)\n",
        "        preds = torch.permute(preds, (1, 0, 2))\n",
        "        preds_length = torch.IntTensor([preds.size(0)] * batch_size).to(device)\n",
        "    \n",
        "        loss = loss_fn(preds, labels, preds_length, labels_length)\n",
        "\n",
        "        optimizer.zero_grad()\n",
        "        loss.backward()\n",
        "        optimizer.step()\n",
        "\n",
        "        if batch % 100 == 0:\n",
        "            loss, current = loss.item(), batch * len(images)\n",
        "            print('loss: {:>7f} [{:>5d}/{:>5d}]'.format(loss, current, size))"
      ]
    },
    {
      "cell_type": "code",
      "execution_count": 12,
      "metadata": {
        "id": "SsRwWm_twdSz"
      },
      "outputs": [],
      "source": [
        "converter = Converter(symbols)\n",
        "\n",
        "num_classes = len(symbols) + 1\n",
        "batch_size = 64\n",
        "learning_rate = 1e-3\n",
        "epochs = 5\n",
        "\n",
        "train_dataloader = DataLoader(train, batch_size=batch_size, shuffle=True, drop_last=True)\n",
        "test_dataloader = DataLoader(test, batch_size=batch_size, shuffle=True, drop_last=True)\n",
        "\n",
        "model = CRNN(num_classes).to(device)\n",
        "\n",
        "loss_fn = nn.CTCLoss()\n",
        "# optimizer = torch.optim.Adadelta(model.parameters(), learning_rate)\n",
        "optimizer = torch.optim.Adam(model.parameters(), lr=learning_rate)"
      ]
    },
    {
      "cell_type": "code",
      "execution_count": 13,
      "metadata": {
        "colab": {
          "base_uri": "https://localhost:8080/"
        },
        "id": "AbhTOSq90bYl",
        "outputId": "04aea3c6-e5c9-4f7a-a58b-4832a2b91af1"
      },
      "outputs": [
        {
          "output_type": "stream",
          "name": "stdout",
          "text": [
            "Epoch 1\n",
            "----------------------------------\n",
            "loss: 11.630688 [    0/199980]\n",
            "loss: 2.613410 [ 6400/199980]\n",
            "loss: 2.611552 [12800/199980]\n",
            "loss: 2.409519 [19200/199980]\n",
            "loss: 1.575177 [25600/199980]\n",
            "loss: 0.302296 [32000/199980]\n",
            "loss: 0.107133 [38400/199980]\n",
            "loss: 0.060344 [44800/199980]\n",
            "loss: 0.072794 [51200/199980]\n",
            "loss: 0.057137 [57600/199980]\n",
            "loss: 0.037419 [64000/199980]\n",
            "loss: 0.032471 [70400/199980]\n",
            "loss: 0.054683 [76800/199980]\n",
            "loss: 0.035017 [83200/199980]\n",
            "loss: 0.021379 [89600/199980]\n",
            "loss: 0.027473 [96000/199980]\n",
            "loss: 0.007931 [102400/199980]\n",
            "loss: 0.017162 [108800/199980]\n",
            "loss: 0.033262 [115200/199980]\n",
            "loss: 0.003788 [121600/199980]\n",
            "loss: 0.013603 [128000/199980]\n",
            "loss: 0.006803 [134400/199980]\n",
            "loss: 0.035787 [140800/199980]\n",
            "loss: 0.001346 [147200/199980]\n",
            "loss: 0.001574 [153600/199980]\n",
            "loss: 0.002771 [160000/199980]\n",
            "loss: 0.017202 [166400/199980]\n",
            "loss: 0.024923 [172800/199980]\n",
            "loss: 0.024012 [179200/199980]\n",
            "loss: 0.001675 [185600/199980]\n",
            "loss: 0.005182 [192000/199980]\n",
            "loss: 0.008821 [198400/199980]\n",
            "Epoch 2\n",
            "----------------------------------\n",
            "loss: 0.003012 [    0/199980]\n",
            "loss: 0.006423 [ 6400/199980]\n",
            "loss: 0.000715 [12800/199980]\n",
            "loss: 0.010131 [19200/199980]\n",
            "loss: 0.002693 [25600/199980]\n",
            "loss: 0.002626 [32000/199980]\n",
            "loss: 0.004768 [38400/199980]\n",
            "loss: 0.017871 [44800/199980]\n",
            "loss: 0.006384 [51200/199980]\n",
            "loss: 0.001238 [57600/199980]\n",
            "loss: 0.020906 [64000/199980]\n",
            "loss: 0.000730 [70400/199980]\n",
            "loss: 0.019723 [76800/199980]\n",
            "loss: 0.008021 [83200/199980]\n",
            "loss: 0.015468 [89600/199980]\n",
            "loss: 0.002117 [96000/199980]\n",
            "loss: 0.039173 [102400/199980]\n",
            "loss: 0.005128 [108800/199980]\n",
            "loss: 0.000455 [115200/199980]\n",
            "loss: 0.001151 [121600/199980]\n",
            "loss: 0.001153 [128000/199980]\n",
            "loss: 0.020501 [134400/199980]\n",
            "loss: 0.001754 [140800/199980]\n",
            "loss: 0.015782 [147200/199980]\n",
            "loss: 0.000571 [153600/199980]\n",
            "loss: 0.000343 [160000/199980]\n",
            "loss: 0.027354 [166400/199980]\n",
            "loss: 0.005665 [172800/199980]\n",
            "loss: 0.003733 [179200/199980]\n",
            "loss: 0.003074 [185600/199980]\n",
            "loss: 0.000518 [192000/199980]\n",
            "loss: 0.007741 [198400/199980]\n",
            "Epoch 3\n",
            "----------------------------------\n",
            "loss: 0.021920 [    0/199980]\n",
            "loss: 0.000951 [ 6400/199980]\n",
            "loss: 0.006532 [12800/199980]\n",
            "loss: 0.002544 [19200/199980]\n",
            "loss: 0.009574 [25600/199980]\n",
            "loss: 0.000512 [32000/199980]\n",
            "loss: 0.000267 [38400/199980]\n",
            "loss: 0.000707 [44800/199980]\n",
            "loss: 0.001076 [51200/199980]\n",
            "loss: 0.014737 [57600/199980]\n",
            "loss: 0.001586 [64000/199980]\n",
            "loss: 0.003038 [70400/199980]\n",
            "loss: 0.000624 [76800/199980]\n",
            "loss: 0.001867 [83200/199980]\n",
            "loss: 0.000168 [89600/199980]\n",
            "loss: 0.018364 [96000/199980]\n",
            "loss: 0.000674 [102400/199980]\n",
            "loss: 0.021500 [108800/199980]\n",
            "loss: 0.004835 [115200/199980]\n",
            "loss: 0.004817 [121600/199980]\n",
            "loss: 0.015317 [128000/199980]\n",
            "loss: 0.025019 [134400/199980]\n",
            "loss: 0.000502 [140800/199980]\n",
            "loss: 0.021014 [147200/199980]\n",
            "loss: 0.041200 [153600/199980]\n",
            "loss: 0.045412 [160000/199980]\n",
            "loss: 0.000785 [166400/199980]\n",
            "loss: 0.002477 [172800/199980]\n",
            "loss: 0.004751 [179200/199980]\n",
            "loss: 0.000636 [185600/199980]\n",
            "loss: 0.001560 [192000/199980]\n",
            "loss: 0.000215 [198400/199980]\n",
            "Epoch 4\n",
            "----------------------------------\n",
            "loss: 0.005825 [    0/199980]\n",
            "loss: 0.004476 [ 6400/199980]\n",
            "loss: 0.000693 [12800/199980]\n",
            "loss: 0.004849 [19200/199980]\n",
            "loss: 0.015499 [25600/199980]\n",
            "loss: 0.001506 [32000/199980]\n",
            "loss: 0.012762 [38400/199980]\n",
            "loss: 0.000535 [44800/199980]\n",
            "loss: 0.000163 [51200/199980]\n",
            "loss: 0.000377 [57600/199980]\n",
            "loss: 0.000169 [64000/199980]\n",
            "loss: 0.000886 [70400/199980]\n",
            "loss: 0.000285 [76800/199980]\n",
            "loss: 0.000395 [83200/199980]\n",
            "loss: 0.000294 [89600/199980]\n",
            "loss: 0.012219 [96000/199980]\n",
            "loss: 0.001137 [102400/199980]\n",
            "loss: 0.000142 [108800/199980]\n",
            "loss: 0.006576 [115200/199980]\n",
            "loss: 0.000484 [121600/199980]\n",
            "loss: 0.000117 [128000/199980]\n",
            "loss: 0.000129 [134400/199980]\n",
            "loss: 0.000123 [140800/199980]\n",
            "loss: 0.001612 [147200/199980]\n",
            "loss: 0.001664 [153600/199980]\n",
            "loss: 0.004897 [160000/199980]\n",
            "loss: 0.011523 [166400/199980]\n",
            "loss: 0.013162 [172800/199980]\n",
            "loss: 0.000579 [179200/199980]\n",
            "loss: 0.027980 [185600/199980]\n",
            "loss: 0.010822 [192000/199980]\n",
            "loss: 0.003215 [198400/199980]\n",
            "Epoch 5\n",
            "----------------------------------\n",
            "loss: 0.000810 [    0/199980]\n",
            "loss: 0.000644 [ 6400/199980]\n",
            "loss: 0.007672 [12800/199980]\n",
            "loss: 0.000189 [19200/199980]\n",
            "loss: 0.000365 [25600/199980]\n",
            "loss: 0.014159 [32000/199980]\n",
            "loss: 0.000053 [38400/199980]\n",
            "loss: 0.000359 [44800/199980]\n",
            "loss: 0.000913 [51200/199980]\n",
            "loss: 0.000143 [57600/199980]\n",
            "loss: 0.003808 [64000/199980]\n",
            "loss: 0.009329 [70400/199980]\n",
            "loss: 0.000284 [76800/199980]\n",
            "loss: 0.000987 [83200/199980]\n",
            "loss: 0.003921 [89600/199980]\n",
            "loss: 0.000105 [96000/199980]\n",
            "loss: 0.001232 [102400/199980]\n",
            "loss: 0.001249 [108800/199980]\n",
            "loss: 0.008246 [115200/199980]\n",
            "loss: 0.016226 [121600/199980]\n",
            "loss: 0.000519 [128000/199980]\n",
            "loss: 0.000169 [134400/199980]\n",
            "loss: 0.000604 [140800/199980]\n",
            "loss: 0.000083 [147200/199980]\n",
            "loss: 0.032349 [153600/199980]\n",
            "loss: 0.005329 [160000/199980]\n",
            "loss: 0.000166 [166400/199980]\n",
            "loss: 0.000191 [172800/199980]\n",
            "loss: 0.003153 [179200/199980]\n",
            "loss: 0.010394 [185600/199980]\n",
            "loss: 0.000080 [192000/199980]\n",
            "loss: 0.000145 [198400/199980]\n",
            "Done!\n",
            "CPU times: user 27min 23s, sys: 40.5 s, total: 28min 3s\n",
            "Wall time: 29min 47s\n"
          ]
        }
      ],
      "source": [
        "%%time\n",
        "for t in range(epochs):\n",
        "    print('Epoch {}\\n----------------------------------'.format(t+1))\n",
        "    train_loop(train_dataloader, model, loss_fn, optimizer, converter)\n",
        "print('Done!')"
      ]
    },
    {
      "cell_type": "markdown",
      "source": [
        "## Сохранение модели в файл"
      ],
      "metadata": {
        "id": "YhnirjFqK_eT"
      }
    },
    {
      "cell_type": "code",
      "source": [
        "MODEL_PATH = 'crnn.pth'\n",
        "torch.save(model.state_dict(), MODEL_PATH)"
      ],
      "metadata": {
        "id": "Aq-7rkSmmQec"
      },
      "execution_count": 14,
      "outputs": []
    },
    {
      "cell_type": "markdown",
      "source": [
        "# Подсчет метрик"
      ],
      "metadata": {
        "id": "RZFJ2TxBIDJJ"
      }
    },
    {
      "cell_type": "code",
      "source": [
        "def test_loop(dataloader, model, loss_fn, converter):\n",
        "    size = len(dataloader.dataset)\n",
        "    num_batches = len(dataloader)\n",
        "    test_loss = 0\n",
        "    correct = 0\n",
        "    cer = 0\n",
        "\n",
        "    with torch.no_grad():\n",
        "        for images, labels in dataloader:\n",
        "            batch_size = images.size(0)\n",
        "            labels, labels_length = converter.encode(labels)\n",
        "\n",
        "            preds = model(images).log_softmax(2)\n",
        "            ctc_preds = torch.permute(preds, (1, 0, 2))\n",
        "            preds_length = torch.IntTensor([ctc_preds.size(0)] * batch_size).to(device)\n",
        "\n",
        "            preds = converter.clean(preds.argmax(2), blank=0)\n",
        "\n",
        "            test_loss += loss_fn(ctc_preds, labels, preds_length, labels_length).item()\n",
        "            correct += (preds == labels).all(dim=1).float().sum().item()\n",
        "            cer += char_error_rate(preds, labels)\n",
        "\n",
        "    test_loss /= num_batches\n",
        "    cer /= num_batches\n",
        "    correct /= size\n",
        "    print('Test Error:\\nAccuracy: {:>0.1f}%, Avg loss: {:>8f}, Avg Char Error Rate: {:>8f}'.format(100*correct, test_loss, cer))"
      ],
      "metadata": {
        "id": "IYt2YcN-IuYX"
      },
      "execution_count": 15,
      "outputs": []
    },
    {
      "cell_type": "markdown",
      "source": [
        "## Подгрузка модели"
      ],
      "metadata": {
        "id": "PT4G4QquLKPm"
      }
    },
    {
      "cell_type": "code",
      "source": [
        "MODEL_PATH = 'crnn.pth'\n",
        "model.load_state_dict(torch.load(MODEL_PATH, map_location=torch.device(device)))"
      ],
      "metadata": {
        "colab": {
          "base_uri": "https://localhost:8080/"
        },
        "id": "gbezwFgIGntE",
        "outputId": "0e3ae279-2d0a-498c-d4b7-e930882fd435"
      },
      "execution_count": 16,
      "outputs": [
        {
          "output_type": "execute_result",
          "data": {
            "text/plain": [
              "<All keys matched successfully>"
            ]
          },
          "metadata": {},
          "execution_count": 16
        }
      ]
    },
    {
      "cell_type": "markdown",
      "source": [
        "## Обзор метрик"
      ],
      "metadata": {
        "id": "czIz-L-ELOfN"
      }
    },
    {
      "cell_type": "code",
      "source": [
        "test_loop(train_dataloader, model, loss_fn, converter)"
      ],
      "metadata": {
        "colab": {
          "base_uri": "https://localhost:8080/"
        },
        "id": "11q_thb7o0gR",
        "outputId": "faaf24b6-ad82-4bab-95a4-cc575aa4516e"
      },
      "execution_count": 17,
      "outputs": [
        {
          "output_type": "stream",
          "name": "stdout",
          "text": [
            "Test Error:\n",
            "Accuracy: 99.7%, Avg loss: 0.001905, Avg Char Error Rate: 0.000489\n"
          ]
        }
      ]
    },
    {
      "cell_type": "code",
      "source": [
        "test_loop(test_dataloader, model, loss_fn, converter)"
      ],
      "metadata": {
        "colab": {
          "base_uri": "https://localhost:8080/"
        },
        "id": "z7_2b5KVpfEh",
        "outputId": "eabbe694-9249-435f-9aca-494d6dfe8305"
      },
      "execution_count": 18,
      "outputs": [
        {
          "output_type": "stream",
          "name": "stdout",
          "text": [
            "Test Error:\n",
            "Accuracy: 97.3%, Avg loss: 0.020395, Avg Char Error Rate: 0.004293\n"
          ]
        }
      ]
    },
    {
      "cell_type": "markdown",
      "source": [
        "Обученная нейронная сеть показывает достаточно высокое качество как и на выборке для обучения, так и для тестовой"
      ],
      "metadata": {
        "id": "5IMdUNOVLRy-"
      }
    },
    {
      "cell_type": "markdown",
      "source": [
        "# Анализ ошибок модели"
      ],
      "metadata": {
        "id": "FnRT1S7hwt0G"
      }
    },
    {
      "cell_type": "code",
      "source": [
        "def get_worst_samples(dataloader, model, converter, n_samples=10):\n",
        "    batch_size = dataloader.batch_size\n",
        "    metrics_buffer = torch.zeros(n_samples).to(device)\n",
        "    images_buffer = torch.zeros((10, 32, 100)).to(device)\n",
        "    preds_buffer = [[]] * 10\n",
        "    labels_buffer = [''] * 10\n",
        "\n",
        "    with torch.no_grad():\n",
        "        for images, raw_labels in dataloader:\n",
        "            batch_size = images.size(0)\n",
        "            \n",
        "            labels, labels_length = converter.encode(raw_labels)\n",
        "\n",
        "            raw_preds = model(images).log_softmax(2)\n",
        "            preds = converter.clean(raw_preds.argmax(2), blank=0)\n",
        "\n",
        "            for i in range(batch_size):\n",
        "                metric = char_error_rate([preds[i]], [labels[i]]).item()\n",
        "                if metric > metrics_buffer.min().item():\n",
        "                    argmin = metrics_buffer.argmin().item()\n",
        "                    metrics_buffer[argmin] = metric\n",
        "                    images_buffer[argmin] = images[i]\n",
        "                    preds_buffer[argmin] = converter.decode(raw_preds.argmax(2)[i])\n",
        "                    labels_buffer[argmin] = raw_labels[i]\n",
        "\n",
        "    return metrics_buffer, images_buffer, preds_buffer, labels_buffer"
      ],
      "metadata": {
        "id": "IOV2fRq-p-bH"
      },
      "execution_count": 19,
      "outputs": []
    },
    {
      "cell_type": "markdown",
      "source": [
        "Получим 10 наблюдений с наибольшими ошибками на выборке для тестирования"
      ],
      "metadata": {
        "id": "cTRUeVVYLgMz"
      }
    },
    {
      "cell_type": "code",
      "source": [
        "worst_samples = get_worst_samples(test_dataloader, model, converter)\n",
        "worst_samples = list(worst_samples)\n",
        "for i in range(len(worst_samples)):\n",
        "    if isinstance(worst_samples[i], torch.Tensor):\n",
        "        worst_samples[i] = worst_samples[i].cpu().numpy()\n",
        "\n",
        "metrics, images, preds, labels = worst_samples"
      ],
      "metadata": {
        "id": "W8bxrf074Raf"
      },
      "execution_count": 20,
      "outputs": []
    },
    {
      "cell_type": "code",
      "source": [
        "for i in range(len(metrics)):\n",
        "    print('Image: {}\\nCER: {:8f}\\nModel Prediction: {}\\nLabel: {}' \\\n",
        "          .format(i, metrics[i], preds[i], labels[i]))\n",
        "    cv2_imshow(images[i])\n",
        "    print('=' * 30)"
      ],
      "metadata": {
        "colab": {
          "base_uri": "https://localhost:8080/",
          "height": 1000
        },
        "id": "34Y1metP4yRf",
        "outputId": "4efcb3ef-f848-4d2b-a153-5709a197a238"
      },
      "execution_count": 21,
      "outputs": [
        {
          "output_type": "stream",
          "name": "stdout",
          "text": [
            "Image: 0\n",
            "CER: 0.428571\n",
            "Model Prediction: ['皖', '-', '-', '-', 'A', '-', 'L', '-', '-', '6', '-', '-', '9', '-', '-', '-', '1', '-', '-', '5', '-', '-', 'E', '-']\n",
            "Label: 皖AJ915C\n"
          ]
        },
        {
          "output_type": "display_data",
          "data": {
            "text/plain": [
              "<PIL.Image.Image image mode=L size=100x32 at 0x7F78AA1B2850>"
            ],
            "image/png": "[encoded data removed]"
          },
          "metadata": {}
        },
        {
          "output_type": "stream",
          "name": "stdout",
          "text": [
            "==============================\n",
            "Image: 1\n",
            "CER: 0.428571\n",
            "Model Prediction: ['皖', '-', '-', '-', '-', 'A', '-', '-', '-', 'N', '-', '-', '8', '-', '-', '3', '-', '-', '-', '3', '-', '-', 'T', '-']\n",
            "Label: 皖AN866B\n"
          ]
        },
        {
          "output_type": "display_data",
          "data": {
            "text/plain": [
              "<PIL.Image.Image image mode=L size=100x32 at 0x7F7914CD96A0>"
            ],
            "image/png": "[encoded data removed]"
          },
          "metadata": {}
        },
        {
          "output_type": "stream",
          "name": "stdout",
          "text": [
            "==============================\n",
            "Image: 2\n",
            "CER: 0.571429\n",
            "Model Prediction: ['浙', '-', '-', '-', '-', '-', '1', '-', '-', '7', '-', '-', '-', 'Q', '-', '-', '0', '-', '-', 'M', '-', '-', '9', '-']\n",
            "Label: 皖AMQ059\n"
          ]
        },
        {
          "output_type": "display_data",
          "data": {
            "text/plain": [
              "<PIL.Image.Image image mode=L size=100x32 at 0x7F790D29F5B0>"
            ],
            "image/png": "[encoded data removed]"
          },
          "metadata": {}
        },
        {
          "output_type": "stream",
          "name": "stdout",
          "text": [
            "==============================\n",
            "Image: 3\n",
            "CER: 0.571429\n",
            "Model Prediction: ['皖', '-', '-', '-', '-', 'A', '-', '-', '-', '-', 'A', '-', '-', '9', '-', '-', '-', '5', '-', '-', '-', '9', '-', '-']\n",
            "Label: 皖AK927W\n"
          ]
        },
        {
          "output_type": "display_data",
          "data": {
            "text/plain": [
              "<PIL.Image.Image image mode=L size=100x32 at 0x7F790D29F490>"
            ],
            "image/png": "[encoded data removed]"
          },
          "metadata": {}
        },
        {
          "output_type": "stream",
          "name": "stdout",
          "text": [
            "==============================\n",
            "Image: 4\n",
            "CER: 0.571429\n",
            "Model Prediction: ['皖', '-', '-', '-', '-', 'A', '-', '-', '-', '4', '-', '-', 'W', '-', '-', '3', '-', '-', '5', '-', '-', '-', 'X', '-']\n",
            "Label: 皖A2W003\n"
          ]
        },
        {
          "output_type": "display_data",
          "data": {
            "text/plain": [
              "<PIL.Image.Image image mode=L size=100x32 at 0x7F790D29F3D0>"
            ],
            "image/png": "[encoded data removed]"
          },
          "metadata": {}
        },
        {
          "output_type": "stream",
          "name": "stdout",
          "text": [
            "==============================\n",
            "Image: 5\n",
            "CER: 0.571429\n",
            "Model Prediction: ['浙', '-', '-', '-', '-', 'A', '-', '-', '-', 'R', 'R', '-', '-', '1', '-', '-', 'Q', '-', '-', '7', '-', '-', '0', '-']\n",
            "Label: 皖AB1930\n"
          ]
        },
        {
          "output_type": "display_data",
          "data": {
            "text/plain": [
              "<PIL.Image.Image image mode=L size=100x32 at 0x7F790D29F5B0>"
            ],
            "image/png": "[encoded data removed]"
          },
          "metadata": {}
        },
        {
          "output_type": "stream",
          "name": "stdout",
          "text": [
            "==============================\n",
            "Image: 6\n",
            "CER: 0.428571\n",
            "Model Prediction: ['皖', '-', '-', '-', '-', '-', 'A', '-', '-', 'F', '-', '-', '8', '-', '-', '9', '-', '-', 'R', '-', '-', '7', '-', '-']\n",
            "Label: 皖AF888S\n"
          ]
        },
        {
          "output_type": "display_data",
          "data": {
            "text/plain": [
              "<PIL.Image.Image image mode=L size=100x32 at 0x7F790D29F490>"
            ],
            "image/png": "[encoded data removed]"
          },
          "metadata": {}
        },
        {
          "output_type": "stream",
          "name": "stdout",
          "text": [
            "==============================\n",
            "Image: 7\n",
            "CER: 0.571429\n",
            "Model Prediction: ['皖', '-', '-', '-', 'A', '-', '-', '8', '-', '-', 'H', '-', '3', '-', '-', '3', '-', '6', 'A', '-', '-', '-', '1', '-']\n",
            "Label: 皖ABJ356\n"
          ]
        },
        {
          "output_type": "display_data",
          "data": {
            "text/plain": [
              "<PIL.Image.Image image mode=L size=100x32 at 0x7F790D29F3D0>"
            ],
            "image/png": "[encoded data removed]"
          },
          "metadata": {}
        },
        {
          "output_type": "stream",
          "name": "stdout",
          "text": [
            "==============================\n",
            "Image: 8\n",
            "CER: 0.428571\n",
            "Model Prediction: ['皖', '-', '-', '-', '-', 'A', '-', '-', '-', 'L', '-', '-', '-', '5', '-', '-', '7', '-', '-', 'Z', '-', '-', '7', '-']\n",
            "Label: 皖ALG722\n"
          ]
        },
        {
          "output_type": "display_data",
          "data": {
            "text/plain": [
              "<PIL.Image.Image image mode=L size=100x32 at 0x7F790D29F5B0>"
            ],
            "image/png": "[encoded data removed]"
          },
          "metadata": {}
        },
        {
          "output_type": "stream",
          "name": "stdout",
          "text": [
            "==============================\n",
            "Image: 9\n",
            "CER: 0.428571\n",
            "Model Prediction: ['皖', '-', '-', '-', '-', '-', 'H', '-', '-', '-', 'Z', '-', '-', '1', '-', '2', '2', '-', 'V', '-', '-', '-', '1', '-']\n",
            "Label: 鲁M712V1\n"
          ]
        },
        {
          "output_type": "display_data",
          "data": {
            "text/plain": [
              "<PIL.Image.Image image mode=L size=100x32 at 0x7F790D29F490>"
            ],
            "image/png": "[encoded data removed]"
          },
          "metadata": {}
        },
        {
          "output_type": "stream",
          "name": "stdout",
          "text": [
            "==============================\n"
          ]
        }
      ]
    },
    {
      "cell_type": "markdown",
      "source": [
        "Большинство ошибок в выделенных изображениях появляются из-за нечеткости изображения или наличия грязи/снега на номерах.\n",
        "\n",
        "Попробовать решить данную проблему можно дообучением на таких данных. Еще можно немного улучшить контрастность символов с помощью библиотеки cv2."
      ],
      "metadata": {
        "id": "Dnk6Hr4DI8cC"
      }
    }
  ],
  "metadata": {
    "colab": {
      "provenance": [],
      "collapsed_sections": [
        "jPpGeM-QJwn4",
        "99PP2wfFKMgi",
        "iHHzo-6yKWNo",
        "xqkwxI9QKrpg"
      ]
    },
    "kernelspec": {
      "display_name": "Python 3",
      "name": "python3"
    },
    "language_info": {
      "name": "python"
    },
    "accelerator": "GPU",
    "gpuClass": "standard"
  },
  "nbformat": 4,
  "nbformat_minor": 0
}